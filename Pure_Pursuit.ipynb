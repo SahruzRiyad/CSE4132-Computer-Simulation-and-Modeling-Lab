{
 "cells": [
  {
   "cell_type": "code",
   "execution_count": 20,
   "metadata": {},
   "outputs": [
    {
     "data": {
      "text/plain": [
       "[(80, 0),\n",
       " (90, -2),\n",
       " (99, -5),\n",
       " (108, -9),\n",
       " (116, -15),\n",
       " (125, -18),\n",
       " (133, -23),\n",
       " (141, -29),\n",
       " (151, -28),\n",
       " (160, -25),\n",
       " (169, -21),\n",
       " (179, -20),\n",
       " (180, -17)]"
      ]
     },
     "execution_count": 20,
     "metadata": {},
     "output_type": "execute_result"
    }
   ],
   "source": [
    "# print(\"Enter Fighter initial position x and y\")\n",
    "# fighterPos = int(input()) , int(input())\n",
    "# print(\"Enter Velocity of Figher plane\")\n",
    "# VF = int(input())\n",
    "\n",
    "fighterPos = (0,0)\n",
    "VF = 20\n",
    "T = 0\n",
    "\n",
    "bomberPlane = []\n",
    "fighterPlane = [fighterPos]\n",
    "\n",
    "for line in open(\"./Bomber_Path.txt\"):\n",
    "    t , x , y = line.strip().split(\",\")\n",
    "    t = int(t); x = int(x); y = int(y)\n",
    "    T = max(T , t)\n",
    "    coordinate = (x,y)\n",
    "    bomberPlane.append(coordinate)\n",
    "\n",
    "width , height = 631 , 467\n",
    "bomberPlane"
   ]
  },
  {
   "cell_type": "code",
   "execution_count": 27,
   "metadata": {},
   "outputs": [],
   "source": [
    "import math\n",
    "\n",
    "def calculateDistance(bomberPos , fighterPos):\n",
    "    y = pow(bomberPos[1]-fighterPos[1],2)\n",
    "    x = pow(bomberPos[0] - fighterPos[0],2)\n",
    "    return math.sqrt(y + x)"
   ]
  },
  {
   "cell_type": "code",
   "execution_count": 29,
   "metadata": {},
   "outputs": [
    {
     "name": "stdout",
     "output_type": "stream",
     "text": [
      "YES, at time 7 and at position (136.24556481500878, -24.538390244317917)\n"
     ]
    }
   ],
   "source": [
    "for t in range(0,T):\n",
    "    if t > 10:\n",
    "        print(\"Boomber Escaped!!\")\n",
    "        break\n",
    "\n",
    "    dist = calculateDistance(bomberPlane[t],fighterPlane[t])\n",
    "    \n",
    "    if dist <= 10:\n",
    "        print(\"YES, at time {} and at position {}\".format(t,fighterPlane[t]))\n",
    "        break\n",
    "\n",
    "    else:\n",
    "        XF = fighterPlane[t][0] + VF * ((bomberPlane[t][0] - fighterPlane[t][0]) / dist)\n",
    "        YF = fighterPlane[t][1] + VF * ((bomberPlane[t][1] - fighterPlane[t][1]) / dist)\n",
    "\n",
    "        fighterPlane.append((XF,YF))\n"
   ]
  }
 ],
 "metadata": {
  "kernelspec": {
   "display_name": "Python 3.10.6 64-bit",
   "language": "python",
   "name": "python3"
  },
  "language_info": {
   "codemirror_mode": {
    "name": "ipython",
    "version": 3
   },
   "file_extension": ".py",
   "mimetype": "text/x-python",
   "name": "python",
   "nbconvert_exporter": "python",
   "pygments_lexer": "ipython3",
   "version": "3.10.6"
  },
  "orig_nbformat": 4,
  "vscode": {
   "interpreter": {
    "hash": "916dbcbb3f70747c44a77c7bcd40155683ae19c65e1c03b4aa3499c5328201f1"
   }
  }
 },
 "nbformat": 4,
 "nbformat_minor": 2
}
