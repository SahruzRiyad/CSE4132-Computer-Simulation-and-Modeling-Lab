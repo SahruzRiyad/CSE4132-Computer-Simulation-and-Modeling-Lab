{
 "cells": [
  {
   "cell_type": "code",
   "execution_count": 2,
   "metadata": {},
   "outputs": [],
   "source": [
    "c = 0 #seed c \n",
    "a = 1 #multiplicative constant a\n",
    "b = 3 #additive constant b\n",
    "m = 10 # modulus\n",
    "cnt = 12 #Length of sequence"
   ]
  },
  {
   "cell_type": "code",
   "execution_count": 3,
   "metadata": {},
   "outputs": [
    {
     "name": "stdout",
     "output_type": "stream",
     "text": [
      "0 3 6 9 2 5 8 1 4 7 0 3 6 "
     ]
    }
   ],
   "source": [
    "Xp = c\n",
    "print(Xp,end=' ')\n",
    "while cnt > 0:\n",
    "    Xi = (a * Xp + b) % m\n",
    "    print(Xi,end=' ')\n",
    "    if Xp == Xi:\n",
    "        break\n",
    "    Xp = Xi\n",
    "    cnt -= 1"
   ]
  }
 ],
 "metadata": {
  "kernelspec": {
   "display_name": "Python 3.10.6 64-bit",
   "language": "python",
   "name": "python3"
  },
  "language_info": {
   "codemirror_mode": {
    "name": "ipython",
    "version": 3
   },
   "file_extension": ".py",
   "mimetype": "text/x-python",
   "name": "python",
   "nbconvert_exporter": "python",
   "pygments_lexer": "ipython3",
   "version": "3.10.6"
  },
  "orig_nbformat": 4,
  "vscode": {
   "interpreter": {
    "hash": "916dbcbb3f70747c44a77c7bcd40155683ae19c65e1c03b4aa3499c5328201f1"
   }
  }
 },
 "nbformat": 4,
 "nbformat_minor": 2
}
