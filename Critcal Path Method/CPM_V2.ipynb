{
 "cells": [
  {
   "cell_type": "code",
   "execution_count": 81,
   "metadata": {},
   "outputs": [],
   "source": [
    "from collections import defaultdict\n",
    "from collections import deque\n",
    "import sys"
   ]
  },
  {
   "cell_type": "markdown",
   "metadata": {},
   "source": [
    "Class Node -> to store all values that corresponds to the node/id.\n",
    "All necessary variables are declared below:"
   ]
  },
  {
   "cell_type": "code",
   "execution_count": 82,
   "metadata": {},
   "outputs": [],
   "source": [
    "class Node:\n",
    "    def __init__(self,id,name,dur,es,ef,ls,lf) -> None:\n",
    "        self.name = name\n",
    "        self.id = id ; self.du = dur\n",
    "        self.es = es; self.ef = ef\n",
    "        self.ls = ls; self.lf = lf\n",
    "    \n",
    "nodes = {}\n",
    "q1 = deque()\n",
    "q2 = deque()\n",
    "forwardPass = defaultdict(list)\n",
    "backwardPass = defaultdict(list)\n",
    "criticalPath = []\n",
    "totalDuration = 0"
   ]
  },
  {
   "cell_type": "markdown",
   "metadata": {},
   "source": [
    "Reading input file and Storing all the corresponding value.\n",
    "nodes dictionary used to store the object of Node class.\n",
    "All the id appended to the queue which have no predecessors."
   ]
  },
  {
   "cell_type": "code",
   "execution_count": 83,
   "metadata": {},
   "outputs": [],
   "source": [
    "path = './activity.txt'\n",
    "for lines in open(path):\n",
    "    line = lines.rstrip('\\n').split(',')\n",
    "    id = int(line[0]); name = line[1]; duration = int(line[2])\n",
    "    ef = 0\n",
    "    if len(line) == 4:\n",
    "        predecessors = line[3].split(';')\n",
    "        for x in predecessors:\n",
    "            x = int(x)\n",
    "            forwardPass[x].append(id)\n",
    "            backwardPass[id].append(x)\n",
    "    else:\n",
    "        q1.append(id)\n",
    "        ef = duration\n",
    "\n",
    "    nodes[id] = Node(id,name,duration,0,ef,0,sys.maxsize)"
   ]
  },
  {
   "cell_type": "markdown",
   "metadata": {},
   "source": [
    "ForwardPass:\n",
    "    Traverse through the forwardPass using BFS.\n",
    "    Update es and ef --- es is updated with maximum value of its predecessors.\n",
    "    outDegree is used to find the leaves from which we'll start backwardPass."
   ]
  },
  {
   "cell_type": "code",
   "execution_count": 84,
   "metadata": {},
   "outputs": [],
   "source": [
    "while q1:\n",
    "    u = q1.popleft()\n",
    "    ef = nodes[u].ef\n",
    "    for v in forwardPass[u]:\n",
    "        if nodes[v].es < ef:\n",
    "            nodes[v].es = ef\n",
    "            nodes[v].ef = nodes[v].es + nodes[v].du\n",
    "            q1.append(v)\n",
    "\n",
    "    if len(forwardPass[u]) == 0:\n",
    "        totalDuration = max(totalDuration,nodes[u].ef)\n",
    "        q2.append(u)"
   ]
  },
  {
   "cell_type": "markdown",
   "metadata": {},
   "source": [
    "BackwardPass:\n",
    "    All leaf nodes are added to the queue and corresponding ls , lf is calculated.\n",
    "    Using BFS forwardPass is traversed in backward direction.\n",
    "    lf is calculated as minimum(ls) of its successors."
   ]
  },
  {
   "cell_type": "code",
   "execution_count": 85,
   "metadata": {},
   "outputs": [],
   "source": [
    "while q2:\n",
    "    u = q2.popleft()\n",
    "\n",
    "    if len(forwardPass[u]) == 0:\n",
    "        nodes[u].lf = totalDuration\n",
    "        nodes[u].ls = nodes[u].lf - nodes[u].du\n",
    "        q1.append(u)\n",
    "\n",
    "    ls = nodes[u].ls\n",
    "    for v in backwardPass[u]:\n",
    "        if nodes[v].lf > ls:\n",
    "            nodes[v].lf = ls\n",
    "            nodes[v].ls = nodes[v].lf - nodes[v].du\n",
    "            q2.append(v)"
   ]
  },
  {
   "cell_type": "code",
   "execution_count": 86,
   "metadata": {},
   "outputs": [],
   "source": [
    "while q1:\n",
    "    u = q1.popleft()\n",
    "    if nodes[u].es == nodes[u].ls and nodes[u].name not in criticalPath:\n",
    "        criticalPath.append(nodes[u].name)\n",
    "        for v in backwardPass[u]:\n",
    "            if nodes[v].name not in criticalPath:\n",
    "                q1.append(v)\n",
    "            "
   ]
  },
  {
   "cell_type": "code",
   "execution_count": 87,
   "metadata": {},
   "outputs": [
    {
     "name": "stdout",
     "output_type": "stream",
     "text": [
      "id = 1,node = A,duration = 3,ES = 0,EF = 3,LS = 0,LF = 3\n",
      "id = 2,node = B,duration = 4,ES = 3,EF = 7,LS = 3,LF = 7\n",
      "id = 3,node = C,duration = 2,ES = 3,EF = 5,LS = 9,LF = 11\n",
      "id = 4,node = D,duration = 5,ES = 7,EF = 12,LS = 7,LF = 12\n",
      "id = 5,node = E,duration = 1,ES = 5,EF = 6,LS = 11,LF = 12\n",
      "id = 6,node = F,duration = 2,ES = 5,EF = 7,LS = 14,LF = 16\n",
      "id = 7,node = G,duration = 4,ES = 12,EF = 16,LS = 12,LF = 16\n",
      "id = 8,node = H,duration = 3,ES = 16,EF = 19,LS = 16,LF = 19\n"
     ]
    }
   ],
   "source": [
    "def printNodes(nodes):\n",
    "    for key,value in nodes.items():\n",
    "        print('id = {},node = {},duration = {},ES = {},EF = {},LS = {},LF = {}'\n",
    "            .format(key,value.name,value.du,value.es,value.ef,value.ls,value.lf))\n",
    "            \n",
    "printNodes(nodes)"
   ]
  },
  {
   "cell_type": "code",
   "execution_count": 88,
   "metadata": {},
   "outputs": [
    {
     "name": "stdout",
     "output_type": "stream",
     "text": [
      "A->B->D->G->H"
     ]
    }
   ],
   "source": [
    "for i , e  in reversed(list(enumerate(criticalPath))):\n",
    "    print(e,end = '')\n",
    "    if i != 0:\n",
    "        print('->',end='')"
   ]
  }
 ],
 "metadata": {
  "kernelspec": {
   "display_name": "Python 3.10.4 64-bit",
   "language": "python",
   "name": "python3"
  },
  "language_info": {
   "codemirror_mode": {
    "name": "ipython",
    "version": 3
   },
   "file_extension": ".py",
   "mimetype": "text/x-python",
   "name": "python",
   "nbconvert_exporter": "python",
   "pygments_lexer": "ipython3",
   "version": "3.10.6"
  },
  "orig_nbformat": 4,
  "vscode": {
   "interpreter": {
    "hash": "916dbcbb3f70747c44a77c7bcd40155683ae19c65e1c03b4aa3499c5328201f1"
   }
  }
 },
 "nbformat": 4,
 "nbformat_minor": 2
}
