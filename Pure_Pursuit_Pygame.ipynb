{
 "cells": [
  {
   "cell_type": "code",
   "execution_count": 5,
   "metadata": {},
   "outputs": [],
   "source": [
    "# print(\"Enter Fighter initial position x and y\")\n",
    "# fighterPos = int(input()) , int(input())\n",
    "# print(\"Enter Velocity of Figher plane\")\n",
    "# VF = int(input())\n",
    "\n",
    "fighterPos = (0,0)\n",
    "VF = 20\n",
    "T = 0\n",
    "width , height = 1000 , 600\n",
    "\n",
    "bomberPlane = []\n",
    "fighterPlane = [fighterPos]\n",
    "\n",
    "for line in open(\"./Bomber_Path.txt\"):\n",
    "    t , x , y = line.strip().split(\",\")\n",
    "    t = int(t); x = int(x); y = int(y)\n",
    "    T = max(T , t)\n",
    "    bomberPlane.append((x,y))"
   ]
  },
  {
   "cell_type": "code",
   "execution_count": 6,
   "metadata": {},
   "outputs": [],
   "source": [
    "import math\n",
    "\n",
    "def calculateDistance(bomberPos , fighterPos):\n",
    "    y = pow(bomberPos[1]-fighterPos[1],2)\n",
    "    x = pow(bomberPos[0] - fighterPos[0],2)\n",
    "    return math.sqrt(y + x)"
   ]
  },
  {
   "cell_type": "code",
   "execution_count": 7,
   "metadata": {},
   "outputs": [],
   "source": [
    "def coord(pos):\n",
    "    \"Convert world coordinates to pixel coordinates.\"\n",
    "    return (3 * (pos[0] + 50), 6 * (pos[1] + 50))"
   ]
  },
  {
   "cell_type": "code",
   "execution_count": 8,
   "metadata": {},
   "outputs": [
    {
     "name": "stdout",
     "output_type": "stream",
     "text": [
      "YES, at time 7 and at Boomber pos (141, -29) and Fighter pos (136, -24)\n"
     ]
    }
   ],
   "source": [
    "import pygame\n",
    "\n",
    "pygame.init()\n",
    "pygame.display.set_caption(\"Pure Pursuit\")\n",
    "\n",
    "width , height = 1000 , 600\n",
    "screenSize = (width,height)\n",
    "screen = pygame.display.set_mode(screenSize)\n",
    "\n",
    "f = pygame.font.get_fonts()[0]\n",
    "font = pygame.font.SysFont(f, 32)\n",
    "\n",
    "position_boomber = font.render(\"B\", True, (255,0,0), (0,0,0))\n",
    "position_fighter = font.render(\"F\", True, (0,255,0), (0,0,0))\n",
    "position_match = font.render(\"Caught\", True, (0,255,0), (0,0,0))\n",
    "position_escape = font.render(\"Escaped\", True, (255,0,0), (0,0,0))\n",
    "\n",
    "\n",
    "textRect1 = position_boomber.get_rect()\n",
    "textRect2 = position_fighter.get_rect()\n",
    "textRect4 = position_match.get_rect()\n",
    "textRect5 = position_escape.get_rect()\n",
    "\n",
    "\n",
    "running = True\n",
    "t = 0\n",
    "\n",
    "while running:\n",
    "    screen.fill((0,0,0))\n",
    "    for event in pygame.event.get():\n",
    "        if event.type == pygame.QUIT:\n",
    "            running = False\n",
    "\n",
    "    while t  <= T and running:\n",
    "        pygame.time.delay(900)\n",
    "        position_time = font.render(\"Time:\"+str(t), True, (255,255,255), (0,0,0))\n",
    "        textRect3 = position_time.get_rect()\n",
    "\n",
    "        textRect3.center = (90,height-50)\n",
    "        screen.blit(position_time , textRect3)\n",
    "\n",
    "        if t == 11:\n",
    "            textRect5.center = (width / 2 , height / 2)\n",
    "            screen.blit(position_escape , textRect5)\n",
    "            print(\"Boomber Escaped!!\")\n",
    "            running = False\n",
    "\n",
    "        if t > 0:\n",
    "            pygame.draw.line(screen , (0,255,0) , coord(fighterPlane[t]) ,coord(fighterPlane[t-1]), 2)\n",
    "            pygame.draw.line(screen , (255,0,0) , coord(bomberPlane[t]) ,coord(bomberPlane[t-1]), 2)\n",
    "            pygame.draw.circle(screen , (255,255,255) , coord(fighterPlane[t]) , 4)\n",
    "            pygame.draw.circle(screen , (255,255,255) , coord(bomberPlane[t]) , 4)\n",
    "            \n",
    "        else:\n",
    "            textRect1.center = coord(bomberPlane[t])\n",
    "            textRect2.center = coord(fighterPlane[t])\n",
    "\n",
    "            screen.blit(position_boomber , textRect1)\n",
    "            screen.blit(position_fighter , textRect2)\n",
    "\n",
    "\n",
    "        dist = calculateDistance(bomberPlane[t],fighterPlane[t])\n",
    "        \n",
    "        if dist <= 10:\n",
    "            textRect4.center = (width / 2 , height / 2)\n",
    "            screen.blit(position_match , textRect4)\n",
    "            print(\"YES, at time {} and at Boomber pos {} and Fighter pos {}\".format(t,bomberPlane[t],\n",
    "                    fighterPlane[t]))\n",
    "            running = False\n",
    "\n",
    "        else:\n",
    "            XF = fighterPlane[t][0] + round(VF * ((bomberPlane[t][0] - fighterPlane[t][0]) / dist))\n",
    "            YF = fighterPlane[t][1] + round(VF * ((bomberPlane[t][1] - fighterPlane[t][1]) / dist))\n",
    "\n",
    "            fighterPlane.append((XF,YF))\n",
    "\n",
    "        pygame.display.flip()\n",
    "        t += 1\n",
    "             \n",
    "    pygame.time.delay(1000)\n",
    "    if not running:\n",
    "        pygame.quit()\n",
    "        break\n",
    "\n",
    "    pygame.quit()\n"
   ]
  }
 ],
 "metadata": {
  "kernelspec": {
   "display_name": "Python 3.10.6 64-bit",
   "language": "python",
   "name": "python3"
  },
  "language_info": {
   "codemirror_mode": {
    "name": "ipython",
    "version": 3
   },
   "file_extension": ".py",
   "mimetype": "text/x-python",
   "name": "python",
   "nbconvert_exporter": "python",
   "pygments_lexer": "ipython3",
   "version": "3.10.6"
  },
  "orig_nbformat": 4,
  "vscode": {
   "interpreter": {
    "hash": "916dbcbb3f70747c44a77c7bcd40155683ae19c65e1c03b4aa3499c5328201f1"
   }
  }
 },
 "nbformat": 4,
 "nbformat_minor": 2
}
