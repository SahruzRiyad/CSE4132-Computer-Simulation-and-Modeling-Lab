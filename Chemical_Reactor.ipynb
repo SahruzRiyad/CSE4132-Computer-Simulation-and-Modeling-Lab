{
 "cells": [
  {
   "cell_type": "code",
   "execution_count": 1,
   "metadata": {},
   "outputs": [],
   "source": [
    "a0 = 100\n",
    "b0 = 50\n",
    "c0 = 0\n",
    "del_T = 0.1\n",
    "t = 0\n",
    "k1 = 0.008\n",
    "k2 = 0.002\n",
    "T = 1"
   ]
  },
  {
   "cell_type": "code",
   "execution_count": null,
   "metadata": {},
   "outputs": [],
   "source": [
    "print(\"\\tTime\\t \\tA(i)\\t \\tB(i)\\t \\tC(i)\\t\")\n",
    "# print(\"%-10s %-10s %-10s %-10s\"%t %a0 %b0 %c0)\n",
    "print(\"%11s %15d %15d %15d\"%(t,a0,b0,c0))\n",
    "while t < T:\n",
    "    ai = a0 + (k2 * c0 - k1 * a0 * b0) * del_T\n",
    "    bi = b0 + (k2 * c0 - k1 * a0 * b0) * del_T\n",
    "    ci = c0 + (2 * k1 * a0 * b0 - 2 * k2 * c0) * del_T\n",
    "    a0 = ai\n",
    "    b0 = bi\n",
    "    c0 = ci\n",
    "    t += del_T"
   ]
  }
 ],
 "metadata": {
  "kernelspec": {
   "display_name": "Python 3.10.6 64-bit",
   "language": "python",
   "name": "python3"
  },
  "language_info": {
   "codemirror_mode": {
    "name": "ipython",
    "version": 3
   },
   "file_extension": ".py",
   "mimetype": "text/x-python",
   "name": "python",
   "nbconvert_exporter": "python",
   "pygments_lexer": "ipython3",
   "version": "3.10.6"
  },
  "orig_nbformat": 4,
  "vscode": {
   "interpreter": {
    "hash": "916dbcbb3f70747c44a77c7bcd40155683ae19c65e1c03b4aa3499c5328201f1"
   }
  }
 },
 "nbformat": 4,
 "nbformat_minor": 2
}
